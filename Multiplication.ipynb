{
 "cells": [
  {
   "cell_type": "code",
   "execution_count": 81,
   "metadata": {},
   "outputs": [],
   "source": [
    "import numpy as np\n",
    "import matplotlib.pyplot as plt"
   ]
  },
  {
   "cell_type": "code",
   "execution_count": 82,
   "metadata": {},
   "outputs": [],
   "source": [
    "PA = [\n",
    "    [1, 0, 0, 0],\n",
    "    [0, 0, 0, 1],\n",
    "    [0, 1, 0, 0],\n",
    "    [0, 0, 1, 0]\n",
    "]\n",
    "PA_p = [0, 2, 3, 1] # divide by columns: notation by row\n",
    "\n",
    "PB = [\n",
    "    [0, 1, 0, 0],\n",
    "    [0, 0, 0, 1],\n",
    "    [1, 0, 0, 0],\n",
    "    [0, 0, 1, 0]\n",
    "]\n",
    "PB_p = [1, 3, 0, 2]  # divide by rows: notation by column"
   ]
  },
  {
   "cell_type": "code",
   "execution_count": 83,
   "metadata": {},
   "outputs": [],
   "source": [
    "PA3 = [ \n",
    "    [1, 0, 0, 0, 0, 0],\n",
    "    [0, 0, 0, 1, 0, 0],\n",
    "    [0, 1, 0, 0, 0, 0],\n",
    "    [0, 0, 1, 0, 0, 0],\n",
    "    [0, 0, 0, 0, 0, 1],\n",
    "    [0, 0, 0, 0, 1, 0]\n",
    "]\n",
    "PA3_p = [0, 2, 3, 1, 5, 4] # divide by columns: notation by row\n",
    "\n",
    "PB3 = [\n",
    "    [0, 1, 0, 0, 0, 0],\n",
    "    [0, 0, 0, 1, 0, 0],\n",
    "    [1, 0, 0, 0, 0, 0],\n",
    "    [0, 0, 0, 0, 1, 0],\n",
    "    [0, 0, 0, 0, 0, 1],\n",
    "    [0, 0, 1, 0, 0, 0]\n",
    "]\n",
    "PB3_p = [1, 3, 0, 4, 5, 2]  # divide by rows: notation by column"
   ]
  },
  {
   "cell_type": "code",
   "execution_count": 84,
   "metadata": {},
   "outputs": [],
   "source": [
    "def to_permutation(matrix, save_i = True): # O(n^2)\n",
    "    arr = np.zeros(len(matrix)) if save_i else np.zeros(len(matrix[0]))\n",
    "    if save_i:\n",
    "        \n",
    "        for j in range(len(matrix[0])):\n",
    "            for i in range(len(matrix)):\n",
    "                arr[j] = i if matrix[i][j] == 1 else arr[j]\n",
    "    else:\n",
    "        for ix, i in enumerate(matrix):\n",
    "            for jx, j in enumerate(i):\n",
    "                arr[ix] = jx if j == 1 else arr[ix]\n",
    "    return arr\n",
    "\n",
    "# print(to_permutation(PA3, save_i=True))\n",
    "# print(to_permutation(PB3, save_i=False))"
   ]
  },
  {
   "cell_type": "code",
   "execution_count": 85,
   "metadata": {},
   "outputs": [],
   "source": [
    "def to_matrix(permutation): # O(n) about fill matrix\n",
    "    matrix = np.zeros((len(permutation), max(permutation)+1))\n",
    "    for ix, i in enumerate(permutation):\n",
    "        matrix[ix][i] = 1\n",
    "    return matrix"
   ]
  },
  {
   "cell_type": "code",
   "execution_count": null,
   "metadata": {},
   "outputs": [],
   "source": []
  },
  {
   "cell_type": "code",
   "execution_count": 93,
   "metadata": {},
   "outputs": [
    {
     "data": {
      "image/png": "[encoded data removed]",
      "text/plain": [
       "<Figure size 432x288 with 1 Axes>"
      ]
     },
     "metadata": {},
     "output_type": "display_data"
    },
    {
     "data": {
      "image/png": "[encoded data removed]",
      "text/plain": [
       "<Figure size 432x288 with 1 Axes>"
      ]
     },
     "metadata": {},
     "output_type": "display_data"
    },
    {
     "data": {
      "image/png": "[encoded data removed]",
      "text/plain": [
       "<Figure size 432x288 with 1 Axes>"
      ]
     },
     "metadata": {},
     "output_type": "display_data"
    },
    {
     "data": {
      "image/png": "[encoded data removed]",
      "text/plain": [
       "<Figure size 432x288 with 1 Axes>"
      ]
     },
     "metadata": {},
     "output_type": "display_data"
    }
   ],
   "source": [
    "def show_permautation(permutation, save_i=True, with_partition=False):\n",
    "    n = len(permutation)\n",
    "    if with_partition:\n",
    "        if save_i:\n",
    "            plt.scatter(list(range(n//2)), [i for i in permutation[:n//2:]], color='r')\n",
    "            plt.scatter(list(range(n//2, n)), [i for i in permutation[n//2::]], color='b')\n",
    "        else:\n",
    "            plt.scatter([i for i in permutation[:n//2:]], list(range(n//2)), color='r')\n",
    "            plt.scatter([i for i in permutation[n//2::]], list(range(n//2, n)), color='b')   \n",
    "    else:\n",
    "        if save_i: plt.scatter(list(range(n)), [i for i in permutation], color='b')\n",
    "        else: \n",
    "            plt.scatter([i for i in permutation], list(range(n)), color='b')\n",
    "    if save_i:\n",
    "        plt.xlabel('j')\n",
    "        plt.ylabel('i')\n",
    "    else:\n",
    "        plt.xlabel('k')\n",
    "        plt.ylabel('j')\n",
    "    plt.ylim(n-0.1,-0.1)\n",
    "    plt.show()\n",
    "\n",
    "show_permautation(PA3_p, save_i=True, with_partition=False)\n",
    "show_permautation(PA3_p, save_i=True, with_partition=True)\n",
    "\n",
    "show_permautation(PB3_p, save_i=False, with_partition=False)\n",
    "show_permautation(PB3_p, save_i=False, with_partition=True)"
   ]
  },
  {
   "cell_type": "code",
   "execution_count": null,
   "metadata": {},
   "outputs": [],
   "source": []
  }
 ],
 "metadata": {
  "kernelspec": {
   "display_name": "Python 3",
   "language": "python",
   "name": "python3"
  },
  "language_info": {
   "codemirror_mode": {
    "name": "ipython",
    "version": 3
   },
   "file_extension": ".py",
   "mimetype": "text/x-python",
   "name": "python",
   "nbconvert_exporter": "python",
   "pygments_lexer": "ipython3",
   "version": "3.6.7"
  }
 },
 "nbformat": 4,
 "nbformat_minor": 2
}
