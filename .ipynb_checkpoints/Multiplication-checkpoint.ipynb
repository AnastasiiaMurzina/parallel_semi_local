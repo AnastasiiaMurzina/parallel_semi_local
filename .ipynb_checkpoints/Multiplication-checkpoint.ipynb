{
 "cells": [
  {
   "cell_type": "code",
   "execution_count": 1,
   "metadata": {},
   "outputs": [],
   "source": [
    "import numpy as np"
   ]
  },
  {
   "cell_type": "code",
   "execution_count": 14,
   "metadata": {},
   "outputs": [],
   "source": [
    "P = [\n",
    "    [1, 0, 0, 0],\n",
    "    [0, 0, 0, 1],\n",
    "    [0, 1, 0, 0],\n",
    "    [0, 0, 1, 0]\n",
    "]\n",
    "\n",
    "Q = [\n",
    "    [0, 1, 0, 0],\n",
    "    [0, 0, 0, 1],\n",
    "    [1, 0, 0, 0],\n",
    "    [0, 0, 1, 0]\n",
    "]"
   ]
  },
  {
   "cell_type": "code",
   "execution_count": 41,
   "metadata": {},
   "outputs": [
    {
     "name": "stdout",
     "output_type": "stream",
     "text": [
      "[[1. 1. 1. 1. 1.]\n",
      " [1. 1. 1. 1. 1.]\n",
      " [1. 1. 1. 1. 1.]\n",
      " [1. 1. 1. 1. 1.]\n",
      " [1. 1. 1. 1. 0.]]\n"
     ]
    }
   ],
   "source": [
    "def distribution(matrix):\n",
    "#     dist = np.zeros((len(matrix)+1, len(matrix[0])+1))\n",
    "    dist = np.ones((len(matrix)+1, len(matrix[0])+1))\n",
    "    dist[-1][-1] = 0\n",
    "    def rec_sum(dist, matrix, i, j):\n",
    "        if (i, j) == (len(matrix), 0):\n",
    "            dist[i][j] = 0\n",
    "        if dist[i][j] < 0:\n",
    "            dist[i][j] = max(rec_sum(dist, matrix, i-1, j) + dist[i][j-1], rec_sum(dist, matrix, i, j-1) + dist[i][j])\n",
    "        else:\n",
    "            return dist[i][j]\n",
    "    rec_sum(dist, matrix, 0, len(matrix))\n",
    "    print(dist)\n",
    "\n",
    "distribution(P)"
   ]
  },
  {
   "cell_type": "code",
   "execution_count": 20,
   "metadata": {},
   "outputs": [],
   "source": [
    "def to_permutation(matrix): # O(n^2)\n",
    "    arr = np.zeros(len(matrix))\n",
    "    for ix, i in enumerate(matrix):\n",
    "        for jx, j in enumerate(i):\n",
    "            arr[ix] = jx if j == 1 else arr[ix]\n",
    "    return arr"
   ]
  },
  {
   "cell_type": "code",
   "execution_count": 18,
   "metadata": {},
   "outputs": [],
   "source": [
    "def to_matrix(permutation): # O(n)\n",
    "    matrix = np.zeros((len(permutation), max(permutation)+1))\n",
    "    for ix, i in enumerate(permutation):\n",
    "        matrix[ix][i] = 1\n",
    "    return matrix"
   ]
  },
  {
   "cell_type": "code",
   "execution_count": 29,
   "metadata": {},
   "outputs": [
    {
     "data": {
      "text/plain": [
       "array([[-1., -0., -0., -0., -0.],\n",
       "       [-0., -1., -0., -0., -0.],\n",
       "       [-0., -0., -1., -0., -0.],\n",
       "       [-0., -0., -0., -1., -0.],\n",
       "       [-0., -0., -0., -0., -1.]])"
      ]
     },
     "execution_count": 29,
     "metadata": {},
     "output_type": "execute_result"
    }
   ],
   "source": [
    "-np.eye((len(P)+1))"
   ]
  },
  {
   "cell_type": "code",
   "execution_count": null,
   "metadata": {},
   "outputs": [],
   "source": []
  }
 ],
 "metadata": {
  "kernelspec": {
   "display_name": "Python 3",
   "language": "python",
   "name": "python3"
  },
  "language_info": {
   "codemirror_mode": {
    "name": "ipython",
    "version": 3
   },
   "file_extension": ".py",
   "mimetype": "text/x-python",
   "name": "python",
   "nbconvert_exporter": "python",
   "pygments_lexer": "ipython3",
   "version": "3.6.7"
  }
 },
 "nbformat": 4,
 "nbformat_minor": 2
}
